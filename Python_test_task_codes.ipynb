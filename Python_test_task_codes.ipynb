{
 "cells": [
  {
   "cell_type": "code",
   "execution_count": 3,
   "id": "bfea155a-d176-4ebc-80f6-67c512d678ba",
   "metadata": {},
   "outputs": [],
   "source": [
    "import pandas as pd\n",
    "from scipy.stats import ttest_ind"
   ]
  },
  {
   "cell_type": "code",
   "execution_count": 4,
   "id": "9afb19c2-15ea-4999-b05b-78f9a965275a",
   "metadata": {},
   "outputs": [
    {
     "data": {
      "text/html": [
       "<div>\n",
       "<style scoped>\n",
       "    .dataframe tbody tr th:only-of-type {\n",
       "        vertical-align: middle;\n",
       "    }\n",
       "\n",
       "    .dataframe tbody tr th {\n",
       "        vertical-align: top;\n",
       "    }\n",
       "\n",
       "    .dataframe thead th {\n",
       "        text-align: right;\n",
       "    }\n",
       "</style>\n",
       "<table border=\"1\" class=\"dataframe\">\n",
       "  <thead>\n",
       "    <tr style=\"text-align: right;\">\n",
       "      <th></th>\n",
       "      <th>date</th>\n",
       "      <th>user_id</th>\n",
       "      <th>view_adverts</th>\n",
       "    </tr>\n",
       "  </thead>\n",
       "  <tbody>\n",
       "    <tr>\n",
       "      <th>0</th>\n",
       "      <td>2023-11-11</td>\n",
       "      <td>8c020470-8461-11ed-83d0-552e8cc749d6</td>\n",
       "      <td>13.0</td>\n",
       "    </tr>\n",
       "    <tr>\n",
       "      <th>1</th>\n",
       "      <td>2023-11-18</td>\n",
       "      <td>5875f070-7b92-11ee-a6fb-8b298e83f4f7</td>\n",
       "      <td>14.0</td>\n",
       "    </tr>\n",
       "    <tr>\n",
       "      <th>2</th>\n",
       "      <td>2023-11-29</td>\n",
       "      <td>3c2d27c0-4fd6-11eb-b89f-2ffb31b67dd6</td>\n",
       "      <td>21.0</td>\n",
       "    </tr>\n",
       "    <tr>\n",
       "      <th>3</th>\n",
       "      <td>2023-11-29</td>\n",
       "      <td>234a96d0-ad16-11ed-a2e6-793ddfeeba1f</td>\n",
       "      <td>23.0</td>\n",
       "    </tr>\n",
       "    <tr>\n",
       "      <th>4</th>\n",
       "      <td>2023-11-29</td>\n",
       "      <td>4d07c180-644f-11eb-879c-b7c02edf4f37</td>\n",
       "      <td>12.0</td>\n",
       "    </tr>\n",
       "  </tbody>\n",
       "</table>\n",
       "</div>"
      ],
      "text/plain": [
       "         date                               user_id  view_adverts\n",
       "0  2023-11-11  8c020470-8461-11ed-83d0-552e8cc749d6          13.0\n",
       "1  2023-11-18  5875f070-7b92-11ee-a6fb-8b298e83f4f7          14.0\n",
       "2  2023-11-29  3c2d27c0-4fd6-11eb-b89f-2ffb31b67dd6          21.0\n",
       "3  2023-11-29  234a96d0-ad16-11ed-a2e6-793ddfeeba1f          23.0\n",
       "4  2023-11-29  4d07c180-644f-11eb-879c-b7c02edf4f37          12.0"
      ]
     },
     "execution_count": 4,
     "metadata": {},
     "output_type": "execute_result"
    }
   ],
   "source": [
    "df = pd.read_csv('Данные об аудитории.csv')\n",
    "df2 = pd.read_csv('Данные АБ тестов.csv')\n",
    "df3 = pd.read_csv('Листеры.csv')\n",
    "df.head()"
   ]
  },
  {
   "cell_type": "code",
   "execution_count": 67,
   "id": "2ed96519-bab2-4a7d-a3e1-72aab0417f7e",
   "metadata": {},
   "outputs": [
    {
     "name": "stdout",
     "output_type": "stream",
     "text": [
      "7639\n"
     ]
    }
   ],
   "source": [
    "mau = df['user_id'].nunique()\n",
    "print(mau)"
   ]
  },
  {
   "cell_type": "code",
   "execution_count": 68,
   "id": "d16a9c75-9371-4eec-976f-5ab069afca39",
   "metadata": {},
   "outputs": [
    {
     "name": "stdout",
     "output_type": "stream",
     "text": [
      "560.4666666666667\n"
     ]
    }
   ],
   "source": [
    "dau = df.groupby('date')['user_id'].nunique()\n",
    "print(dau.mean())"
   ]
  },
  {
   "cell_type": "code",
   "execution_count": 66,
   "id": "d5227d05-9283-4491-b4e7-80fd63fe2cdb",
   "metadata": {},
   "outputs": [
    {
     "name": "stdout",
     "output_type": "stream",
     "text": [
      "26.64526484751204\n"
     ]
    }
   ],
   "source": [
    "counts_users_first_day = df[df['date'] == \"2023-11-01\"]\n",
    "counts_users_second_day = df[(df['date'] == \"2023-11-02\")]\n",
    "retention_count = len(pd.merge(counts_users_first_day, counts_users_second_day, on=\"user_id\"))\n",
    "retention = (retention_count / len(counts_users_first_day))*100\n",
    "print(retention)"
   ]
  },
  {
   "cell_type": "code",
   "execution_count": 106,
   "id": "7a4dd9c7-0a86-47b2-b3f0-86afbccd158f",
   "metadata": {},
   "outputs": [
    {
     "name": "stdout",
     "output_type": "stream",
     "text": [
      "46.31496269145176\n"
     ]
    }
   ],
   "source": [
    "total_users = df.groupby('user_id')['view_adverts'].sum().reset_index()\n",
    "users_with_adverts = total_users[total_users['view_adverts'] > 0].nunique()\n",
    "conversion = (users_with_adverts['user_id']/len(total_users))*100\n",
    "print(conversion)"
   ]
  },
  {
   "cell_type": "code",
   "execution_count": 107,
   "id": "302bc8e0-6012-4561-a9d3-863a5a97baa4",
   "metadata": {},
   "outputs": [
    {
     "name": "stdout",
     "output_type": "stream",
     "text": [
      "2.8687000916350307\n"
     ]
    }
   ],
   "source": [
    "total_users = df.groupby('user_id')['view_adverts'].sum().reset_index()\n",
    "print(total_users['view_adverts'].mean())"
   ]
  },
  {
   "cell_type": "code",
   "execution_count": 112,
   "id": "e5452a83-9ed5-4291-adf2-289e6739c713",
   "metadata": {},
   "outputs": [
    {
     "name": "stdout",
     "output_type": "stream",
     "text": [
      "35.0\n"
     ]
    }
   ],
   "source": [
    "total = 2000\n",
    "Promoters = 1200\n",
    "Promoters_percent = (Promoters * 100) / total\n",
    "Detractors = 500\n",
    "Detractors_percent = (Detractors * 100) / total\n",
    "NPS = Promoters_percent - Detractors_percent\n",
    "print(NPS)"
   ]
  },
  {
   "cell_type": "code",
   "execution_count": 114,
   "id": "166cf1bb-aa27-481d-b17c-c8f579784cd8",
   "metadata": {},
   "outputs": [
    {
     "data": {
      "text/html": [
       "<div>\n",
       "<style scoped>\n",
       "    .dataframe tbody tr th:only-of-type {\n",
       "        vertical-align: middle;\n",
       "    }\n",
       "\n",
       "    .dataframe tbody tr th {\n",
       "        vertical-align: top;\n",
       "    }\n",
       "\n",
       "    .dataframe thead th {\n",
       "        text-align: right;\n",
       "    }\n",
       "</style>\n",
       "<table border=\"1\" class=\"dataframe\">\n",
       "  <thead>\n",
       "    <tr style=\"text-align: right;\">\n",
       "      <th></th>\n",
       "      <th>experiment_num</th>\n",
       "      <th>experiment_group</th>\n",
       "      <th>user_id</th>\n",
       "      <th>revenue</th>\n",
       "    </tr>\n",
       "  </thead>\n",
       "  <tbody>\n",
       "    <tr>\n",
       "      <th>0</th>\n",
       "      <td>1.0</td>\n",
       "      <td>test</td>\n",
       "      <td>38456.0</td>\n",
       "      <td>520.0</td>\n",
       "    </tr>\n",
       "    <tr>\n",
       "      <th>1</th>\n",
       "      <td>1.0</td>\n",
       "      <td>control</td>\n",
       "      <td>13125924.0</td>\n",
       "      <td>806.0</td>\n",
       "    </tr>\n",
       "    <tr>\n",
       "      <th>2</th>\n",
       "      <td>1.0</td>\n",
       "      <td>control</td>\n",
       "      <td>9761984.0</td>\n",
       "      <td>0.0</td>\n",
       "    </tr>\n",
       "    <tr>\n",
       "      <th>3</th>\n",
       "      <td>1.0</td>\n",
       "      <td>test</td>\n",
       "      <td>11387012.0</td>\n",
       "      <td>208.0</td>\n",
       "    </tr>\n",
       "    <tr>\n",
       "      <th>4</th>\n",
       "      <td>1.0</td>\n",
       "      <td>test</td>\n",
       "      <td>18319648.0</td>\n",
       "      <td>104.0</td>\n",
       "    </tr>\n",
       "  </tbody>\n",
       "</table>\n",
       "</div>"
      ],
      "text/plain": [
       "   experiment_num experiment_group     user_id  revenue\n",
       "0             1.0             test     38456.0    520.0\n",
       "1             1.0          control  13125924.0    806.0\n",
       "2             1.0          control   9761984.0      0.0\n",
       "3             1.0             test  11387012.0    208.0\n",
       "4             1.0             test  18319648.0    104.0"
      ]
     },
     "execution_count": 114,
     "metadata": {},
     "output_type": "execute_result"
    }
   ],
   "source": [
    "df2.head()"
   ]
  },
  {
   "cell_type": "code",
   "execution_count": 8,
   "id": "8bacd5f9-8626-4757-8924-7131ce64ab58",
   "metadata": {},
   "outputs": [
    {
     "name": "stdout",
     "output_type": "stream",
     "text": [
      "P-value для первого эксперимента: 0.688784211779017\n",
      "P-value для второго эксперимента: 0.0009915972237576193\n",
      "P-value для третьего эксперимента: 0.06174290011218765\n"
     ]
    }
   ],
   "source": [
    "exp1 = df2[df2['experiment_num'] == 1]\n",
    "exp1_test = exp1[exp1['experiment_group'] == 'test']\n",
    "exp1_control = exp1[exp1['experiment_group'] == 'control']\n",
    "\n",
    "exp1_test_arpu = exp1_test.groupby('user_id')['revenue'].sum()\n",
    "exp1_control_arpu = exp1_control.groupby('user_id')['revenue'].sum()\n",
    "t_stat1, p_value1 = ttest_ind(exp1_control_arpu, exp1_test_arpu)\n",
    "\n",
    "print(f\"P-value для первого эксперимента: {p_value1}\")\n",
    "\n",
    "exp2 = df2[df2['experiment_num'] == 2]\n",
    "exp2_test = exp2[exp2['experiment_group'] == 'test']\n",
    "exp2_control = exp2[exp2['experiment_group'] == 'control']\n",
    "\n",
    "exp2_test_arpu = exp2_test.groupby('user_id')['revenue'].sum()\n",
    "exp2_control_arpu = exp2_control.groupby('user_id')['revenue'].sum()\n",
    "t_stat2, p_value2 = ttest_ind(exp2_control_arpu, exp2_test_arpu)\n",
    "\n",
    "print(f\"P-value для второго эксперимента: {p_value2}\")\n",
    "\n",
    "exp3 = df2[df2['experiment_num'] == 3]\n",
    "exp3_test = exp3[exp3['experiment_group'] == 'test']\n",
    "exp3_control = exp3[exp3['experiment_group'] == 'control']\n",
    "\n",
    "exp3_test_arpu = exp3_test.groupby('user_id')['revenue'].sum()\n",
    "exp3_control_arpu = exp3_control.groupby('user_id')['revenue'].sum()\n",
    "t_stat3, p_value3 = ttest_ind(exp3_control_arpu, exp3_test_arpu)\n",
    "\n",
    "print(f\"P-value для третьего эксперимента: {p_value3}\")"
   ]
  },
  {
   "cell_type": "code",
   "execution_count": null,
   "id": "1f441d93-f68b-49ce-9bda-1b7d29c8a9a6",
   "metadata": {},
   "outputs": [],
   "source": []
  },
  {
   "cell_type": "code",
   "execution_count": null,
   "id": "d25ef7ba-8ae4-4260-b684-37407b7c66b0",
   "metadata": {},
   "outputs": [],
   "source": []
  },
  {
   "cell_type": "code",
   "execution_count": 15,
   "id": "8e7f8160-8533-484e-81b7-114ad627b26c",
   "metadata": {},
   "outputs": [
    {
     "data": {
      "text/html": [
       "<div>\n",
       "<style scoped>\n",
       "    .dataframe tbody tr th:only-of-type {\n",
       "        vertical-align: middle;\n",
       "    }\n",
       "\n",
       "    .dataframe tbody tr th {\n",
       "        vertical-align: top;\n",
       "    }\n",
       "\n",
       "    .dataframe thead th {\n",
       "        text-align: right;\n",
       "    }\n",
       "</style>\n",
       "<table border=\"1\" class=\"dataframe\">\n",
       "  <thead>\n",
       "    <tr style=\"text-align: right;\">\n",
       "      <th></th>\n",
       "      <th>user_id</th>\n",
       "      <th>date</th>\n",
       "      <th>cnt_adverts</th>\n",
       "      <th>age</th>\n",
       "      <th>cnt_contacts</th>\n",
       "      <th>revenue</th>\n",
       "    </tr>\n",
       "  </thead>\n",
       "  <tbody>\n",
       "    <tr>\n",
       "      <th>0</th>\n",
       "      <td>100.0</td>\n",
       "      <td>2022-01-01</td>\n",
       "      <td>6.0</td>\n",
       "      <td>21.0</td>\n",
       "      <td>119.0</td>\n",
       "      <td>53.0</td>\n",
       "    </tr>\n",
       "    <tr>\n",
       "      <th>1</th>\n",
       "      <td>100.0</td>\n",
       "      <td>2022-01-02</td>\n",
       "      <td>2.0</td>\n",
       "      <td>21.0</td>\n",
       "      <td>200.0</td>\n",
       "      <td>18.0</td>\n",
       "    </tr>\n",
       "    <tr>\n",
       "      <th>2</th>\n",
       "      <td>100.0</td>\n",
       "      <td>2022-01-03</td>\n",
       "      <td>6.0</td>\n",
       "      <td>21.0</td>\n",
       "      <td>193.0</td>\n",
       "      <td>42.0</td>\n",
       "    </tr>\n",
       "    <tr>\n",
       "      <th>3</th>\n",
       "      <td>100.0</td>\n",
       "      <td>2022-01-04</td>\n",
       "      <td>2.0</td>\n",
       "      <td>21.0</td>\n",
       "      <td>143.0</td>\n",
       "      <td>38.0</td>\n",
       "    </tr>\n",
       "    <tr>\n",
       "      <th>4</th>\n",
       "      <td>100.0</td>\n",
       "      <td>2022-01-05</td>\n",
       "      <td>2.0</td>\n",
       "      <td>21.0</td>\n",
       "      <td>190.0</td>\n",
       "      <td>40.0</td>\n",
       "    </tr>\n",
       "  </tbody>\n",
       "</table>\n",
       "</div>"
      ],
      "text/plain": [
       "   user_id        date  cnt_adverts   age  cnt_contacts  revenue\n",
       "0    100.0  2022-01-01          6.0  21.0         119.0     53.0\n",
       "1    100.0  2022-01-02          2.0  21.0         200.0     18.0\n",
       "2    100.0  2022-01-03          6.0  21.0         193.0     42.0\n",
       "3    100.0  2022-01-04          2.0  21.0         143.0     38.0\n",
       "4    100.0  2022-01-05          2.0  21.0         190.0     40.0"
      ]
     },
     "execution_count": 15,
     "metadata": {},
     "output_type": "execute_result"
    }
   ],
   "source": [
    "df3.head()"
   ]
  },
  {
   "cell_type": "code",
   "execution_count": 14,
   "id": "5d104452-afd9-4065-b1a3-299a0dbc6ec6",
   "metadata": {},
   "outputs": [
    {
     "name": "stdout",
     "output_type": "stream",
     "text": [
      "156.48387096774192\n"
     ]
    }
   ],
   "source": [
    "total_sum = df3['revenue'].sum()\n",
    "count_users = df3['user_id'].nunique()\n",
    "avg_revenue = total_sum / count_users\n",
    "print(avg_revenue)"
   ]
  },
  {
   "cell_type": "code",
   "execution_count": 16,
   "id": "47025f0b-3e28-4aac-b368-7f99acef8905",
   "metadata": {},
   "outputs": [
    {
     "name": "stdout",
     "output_type": "stream",
     "text": [
      "28.0\n"
     ]
    }
   ],
   "source": [
    "median_age = df3['age'].median()\n",
    "print(median_age)"
   ]
  },
  {
   "cell_type": "code",
   "execution_count": null,
   "id": "071a6f1b-0049-4bdd-8d9b-ccd4e093b359",
   "metadata": {},
   "outputs": [],
   "source": []
  },
  {
   "cell_type": "code",
   "execution_count": null,
   "id": "ea20be91-9616-49f2-9f66-6c32868ee2c4",
   "metadata": {},
   "outputs": [],
   "source": []
  },
  {
   "cell_type": "code",
   "execution_count": null,
   "id": "3b230b8b-7687-4dd4-b516-e22eaef58f70",
   "metadata": {},
   "outputs": [],
   "source": []
  },
  {
   "cell_type": "code",
   "execution_count": null,
   "id": "d9cd3f37-92cb-4a78-9e8c-03f9269696a5",
   "metadata": {},
   "outputs": [],
   "source": []
  }
 ],
 "metadata": {
  "kernelspec": {
   "display_name": "Python 3 (ipykernel)",
   "language": "python",
   "name": "python3"
  },
  "language_info": {
   "codemirror_mode": {
    "name": "ipython",
    "version": 3
   },
   "file_extension": ".py",
   "mimetype": "text/x-python",
   "name": "python",
   "nbconvert_exporter": "python",
   "pygments_lexer": "ipython3",
   "version": "3.12.7"
  }
 },
 "nbformat": 4,
 "nbformat_minor": 5
}
